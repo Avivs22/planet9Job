{
 "cells": [
  {
   "cell_type": "code",
   "execution_count": 9,
   "metadata": {},
   "outputs": [],
   "source": [
    "import json\n",
    "from collections import defaultdict\n",
    "import plotly.express as px\n",
    "import plotly.io as plotly\n",
    "#plotly.renderers.default='iframe'"
   ]
  },
  {
   "cell_type": "code",
   "execution_count": 10,
   "metadata": {},
   "outputs": [],
   "source": [
    "BENIGN = \"Benign\"\n",
    "SCAM = \"Malicious\"\n",
    "class_names = [BENIGN, SCAM]"
   ]
  },
  {
   "cell_type": "code",
   "execution_count": 11,
   "metadata": {},
   "outputs": [],
   "source": [
    "def sunburst_plot(data, title=\"Sunburst Chart\"):\n",
    "    fig = px.sunburst(\n",
    "        data,\n",
    "        names='names',\n",
    "        parents='parents',\n",
    "        values='values',\n",
    "        title=title,\n",
    "        branchvalues='total' ,\n",
    "\n",
    "    )\n",
    "\n",
    "\n",
    "    fig.update_traces(maxdepth=2)\n",
    "\n",
    "    fig.show()"
   ]
  },
  {
   "cell_type": "code",
   "execution_count": 12,
   "metadata": {},
   "outputs": [],
   "source": [
    "# 'URL', 'IPInfo', 'FullWhois', 'CertSH', 'HTML', 'HTMLInfo', 'Links'\n",
    "\n",
    "def get_parent_for_item(item: str):\n",
    "    tokens = item.split(':')\n",
    "    first_token = tokens[0].strip().lower()\n",
    "\n",
    "    if first_token.startswith('url information') or first_token.startswith('submitted url')  or first_token.startswith('tls support'): return 'URLInfo'\n",
    "    elif first_token.startswith('html information') or first_token.startswith('redirects (url') \\\n",
    "        or first_token.startswith('device')   or first_token.startswith('meta')    : return 'HTMLInfo'\n",
    "    elif first_token.startswith('ipinfo') or first_token.startswith('address') \\\n",
    "        or first_token.startswith('city')  or first_token.startswith('organization') \\\n",
    "        or first_token.startswith('country')  or first_token.startswith('region') : return 'IPInfo'\n",
    "    elif first_token.startswith('links') or first_token.startswith('total links') \\\n",
    "        or first_token.startswith('image')  or first_token.startswith('iframe')  or first_token.startswith('meta contents')   : return 'Links'\n",
    "    elif first_token.startswith('html'): return 'HTML'\n",
    "    elif first_token.startswith('fullwhois') or first_token.startswith('creation')  or first_token.startswith('expiration') \\\n",
    "        or first_token.startswith('total')  or first_token.startswith('registrar') or first_token.startswith('domain status') : return 'FullWhois'\n",
    "    elif first_token.startswith('certsh')  or first_token.startswith('common')  or first_token.startswith('certificate') or first_token.startswith('validity')  or first_token.startswith('issuer') \\\n",
    "        or first_token.startswith('common domains')  : return 'CertSH'\n",
    "    else: \n",
    "        print(f'Couldn not find a parent category for: {first_token}')\n",
    "        return ''\n",
    "\n"
   ]
  },
  {
   "cell_type": "code",
   "execution_count": 13,
   "metadata": {},
   "outputs": [],
   "source": [
    "def sunburst_expl(json_file, label, sample_idx=None): \n",
    "    aggregated_scores_benign = defaultdict(float)\n",
    "    aggregated_scores_scam = defaultdict(float)\n",
    "    parents = list()\n",
    "    tokens_to_parents_benign = dict()\n",
    "    tokens_to_parents_scam = dict()\n",
    "    scores = list()\n",
    "    elements = list()\n",
    "    tokens_to_parents_scam[SCAM] = ''\n",
    "    tokens_to_parents_benign[BENIGN] = ''\n",
    "\n",
    "    def process_item(item, label):\n",
    "        importance = item['importance']\n",
    "        tokens = item['token'].split(':')\n",
    "        token = tokens[0].strip()\n",
    "        if token.startswith('fullwhois') or  token.startswith('ipinfo') \\\n",
    "            or  token.startswith('htmlinfo')   or  token.startswith('html information')\\\n",
    "            or  token.startswith('certsh') or  token.startswith('url') :\n",
    "                token = tokens[1].strip()\n",
    "            \n",
    "\n",
    "        parent = get_parent_for_item(token)\n",
    "        if len(parent) > 1:\n",
    "            if (importance >=0):\n",
    "                tokens_to_parents_scam[token] = parent\n",
    "                aggregated_scores_scam[parent] += importance\n",
    "                aggregated_scores_scam[token] += importance\n",
    "                tokens_to_parents_scam[parent]=SCAM\n",
    "                aggregated_scores_scam[SCAM] += importance\n",
    "                \n",
    "            else:\n",
    "                tokens_to_parents_benign[token] = parent\n",
    "                aggregated_scores_benign[parent] += abs(importance)\n",
    "                aggregated_scores_benign[token] += abs(importance)\n",
    "                tokens_to_parents_benign[parent]=BENIGN\n",
    "                aggregated_scores_benign[BENIGN] += abs(importance)\n",
    "            \n",
    "\n",
    "    with open(json_file, 'r') as file:\n",
    "        lime_data = json.load(file)\n",
    "        if sample_idx != None:\n",
    "            input = lime_data['lime_results'][sample_idx]\n",
    "            classification = input[\"classification\"]\n",
    "            if classification == BENIGN:\n",
    "                classification = 0\n",
    "            elif classification == SCAM:\n",
    "                classification = 1\n",
    "            else: classification = int(classification)\n",
    "            for item in input['explanation']:\n",
    "                process_item(item, classification)\n",
    "        else:\n",
    "            for input in lime_data['lime_results']:\n",
    "                # print(input['classification'])\n",
    "                if label == None or label == int(input['classification']):\n",
    "                    for item in input['explanation']:\n",
    "                        process_item(item, label)\n",
    "                    \n",
    "    for key in aggregated_scores_scam.keys():\n",
    "        parents.append('' if key == SCAM else tokens_to_parents_scam[key] + ' ')\n",
    "        scores.append(aggregated_scores_scam[key] / aggregated_scores_scam[SCAM] * float(lime_data['lime_results'][sample_idx][SCAM])) #normalize to actual prediction confidence\n",
    "        elements.append(key + ' ')\n",
    "\n",
    "    for key in aggregated_scores_benign.keys():\n",
    "        parents.append(tokens_to_parents_benign[key])\n",
    "        scores.append(aggregated_scores_benign[key] / aggregated_scores_benign[BENIGN] * float(lime_data['lime_results'][sample_idx][BENIGN]))  #normalize to actual prediction confidence\n",
    "        elements.append(key)\n",
    "\n",
    "    data = dict(\n",
    "        names=elements,\n",
    "        parents=parents,\n",
    "        values=scores\n",
    "    )\n",
    "    return data\n"
   ]
  },
  {
   "cell_type": "code",
   "execution_count": 14,
   "metadata": {},
   "outputs": [
    {
     "name": "stdout",
     "output_type": "stream",
     "text": [
      "Couldn not find a parent category for: nan\n"
     ]
    },
    {
     "ename": "ValueError",
     "evalue": "Mime type rendering requires nbformat>=4.2.0 but it is not installed",
     "output_type": "error",
     "traceback": [
      "\u001b[1;31m---------------------------------------------------------------------------\u001b[0m",
      "\u001b[1;31mValueError\u001b[0m                                Traceback (most recent call last)",
      "Cell \u001b[1;32mIn[14], line 5\u001b[0m\n\u001b[0;32m      1\u001b[0m plot_data \u001b[38;5;241m=\u001b[39m sunburst_expl(\u001b[38;5;124m'\u001b[39m\u001b[38;5;124mweighted_explanation.json\u001b[39m\u001b[38;5;124m'\u001b[39m, \u001b[38;5;241m1\u001b[39m, sample_idx\u001b[38;5;241m=\u001b[39m\u001b[38;5;241m0\u001b[39m)\n\u001b[0;32m      3\u001b[0m \u001b[38;5;66;03m# print(plot_data)\u001b[39;00m\n\u001b[1;32m----> 5\u001b[0m \u001b[43msunburst_plot\u001b[49m\u001b[43m(\u001b[49m\u001b[43mplot_data\u001b[49m\u001b[43m,\u001b[49m\u001b[43m \u001b[49m\u001b[38;5;124;43m\"\u001b[39;49m\u001b[38;5;124;43m\"\u001b[39;49m\u001b[43m)\u001b[49m\n",
      "Cell \u001b[1;32mIn[11], line 15\u001b[0m, in \u001b[0;36msunburst_plot\u001b[1;34m(data, title)\u001b[0m\n\u001b[0;32m      2\u001b[0m fig \u001b[38;5;241m=\u001b[39m px\u001b[38;5;241m.\u001b[39msunburst(\n\u001b[0;32m      3\u001b[0m     data,\n\u001b[0;32m      4\u001b[0m     names\u001b[38;5;241m=\u001b[39m\u001b[38;5;124m'\u001b[39m\u001b[38;5;124mnames\u001b[39m\u001b[38;5;124m'\u001b[39m,\n\u001b[1;32m   (...)\u001b[0m\n\u001b[0;32m      9\u001b[0m \n\u001b[0;32m     10\u001b[0m )\n\u001b[0;32m     13\u001b[0m fig\u001b[38;5;241m.\u001b[39mupdate_traces(maxdepth\u001b[38;5;241m=\u001b[39m\u001b[38;5;241m2\u001b[39m)\n\u001b[1;32m---> 15\u001b[0m \u001b[43mfig\u001b[49m\u001b[38;5;241;43m.\u001b[39;49m\u001b[43mshow\u001b[49m\u001b[43m(\u001b[49m\u001b[43m)\u001b[49m\n",
      "File \u001b[1;32m~\\AppData\\Local\\Packages\\PythonSoftwareFoundation.Python.3.11_qbz5n2kfra8p0\\LocalCache\\local-packages\\Python311\\site-packages\\plotly\\basedatatypes.py:3410\u001b[0m, in \u001b[0;36mBaseFigure.show\u001b[1;34m(self, *args, **kwargs)\u001b[0m\n\u001b[0;32m   3377\u001b[0m \u001b[38;5;250m\u001b[39m\u001b[38;5;124;03m\"\"\"\u001b[39;00m\n\u001b[0;32m   3378\u001b[0m \u001b[38;5;124;03mShow a figure using either the default renderer(s) or the renderer(s)\u001b[39;00m\n\u001b[0;32m   3379\u001b[0m \u001b[38;5;124;03mspecified by the renderer argument\u001b[39;00m\n\u001b[1;32m   (...)\u001b[0m\n\u001b[0;32m   3406\u001b[0m \u001b[38;5;124;03mNone\u001b[39;00m\n\u001b[0;32m   3407\u001b[0m \u001b[38;5;124;03m\"\"\"\u001b[39;00m\n\u001b[0;32m   3408\u001b[0m \u001b[38;5;28;01mimport\u001b[39;00m \u001b[38;5;21;01mplotly\u001b[39;00m\u001b[38;5;21;01m.\u001b[39;00m\u001b[38;5;21;01mio\u001b[39;00m \u001b[38;5;28;01mas\u001b[39;00m \u001b[38;5;21;01mpio\u001b[39;00m\n\u001b[1;32m-> 3410\u001b[0m \u001b[38;5;28;01mreturn\u001b[39;00m \u001b[43mpio\u001b[49m\u001b[38;5;241;43m.\u001b[39;49m\u001b[43mshow\u001b[49m\u001b[43m(\u001b[49m\u001b[38;5;28;43mself\u001b[39;49m\u001b[43m,\u001b[49m\u001b[43m \u001b[49m\u001b[38;5;241;43m*\u001b[39;49m\u001b[43margs\u001b[49m\u001b[43m,\u001b[49m\u001b[43m \u001b[49m\u001b[38;5;241;43m*\u001b[39;49m\u001b[38;5;241;43m*\u001b[39;49m\u001b[43mkwargs\u001b[49m\u001b[43m)\u001b[49m\n",
      "File \u001b[1;32m~\\AppData\\Local\\Packages\\PythonSoftwareFoundation.Python.3.11_qbz5n2kfra8p0\\LocalCache\\local-packages\\Python311\\site-packages\\plotly\\io\\_renderers.py:394\u001b[0m, in \u001b[0;36mshow\u001b[1;34m(fig, renderer, validate, **kwargs)\u001b[0m\n\u001b[0;32m    389\u001b[0m         \u001b[38;5;28;01mraise\u001b[39;00m \u001b[38;5;167;01mValueError\u001b[39;00m(\n\u001b[0;32m    390\u001b[0m             \u001b[38;5;124m\"\u001b[39m\u001b[38;5;124mMime type rendering requires ipython but it is not installed\u001b[39m\u001b[38;5;124m\"\u001b[39m\n\u001b[0;32m    391\u001b[0m         )\n\u001b[0;32m    393\u001b[0m     \u001b[38;5;28;01mif\u001b[39;00m \u001b[38;5;129;01mnot\u001b[39;00m nbformat \u001b[38;5;129;01mor\u001b[39;00m Version(nbformat\u001b[38;5;241m.\u001b[39m__version__) \u001b[38;5;241m<\u001b[39m Version(\u001b[38;5;124m\"\u001b[39m\u001b[38;5;124m4.2.0\u001b[39m\u001b[38;5;124m\"\u001b[39m):\n\u001b[1;32m--> 394\u001b[0m         \u001b[38;5;28;01mraise\u001b[39;00m \u001b[38;5;167;01mValueError\u001b[39;00m(\n\u001b[0;32m    395\u001b[0m             \u001b[38;5;124m\"\u001b[39m\u001b[38;5;124mMime type rendering requires nbformat>=4.2.0 but it is not installed\u001b[39m\u001b[38;5;124m\"\u001b[39m\n\u001b[0;32m    396\u001b[0m         )\n\u001b[0;32m    398\u001b[0m     ipython_display\u001b[38;5;241m.\u001b[39mdisplay(bundle, raw\u001b[38;5;241m=\u001b[39m\u001b[38;5;28;01mTrue\u001b[39;00m)\n\u001b[0;32m    400\u001b[0m \u001b[38;5;66;03m# external renderers\u001b[39;00m\n",
      "\u001b[1;31mValueError\u001b[0m: Mime type rendering requires nbformat>=4.2.0 but it is not installed"
     ]
    }
   ],
   "source": [
    "plot_data = sunburst_expl('weighted_explanation.json', 1, sample_idx=0)\n",
    "\n",
    "# print(plot_data)\n",
    "\n",
    "sunburst_plot(plot_data, \"\")"
   ]
  },
  {
   "cell_type": "code",
   "execution_count": null,
   "metadata": {},
   "outputs": [],
   "source": []
  },
  {
   "cell_type": "code",
   "execution_count": null,
   "metadata": {},
   "outputs": [],
   "source": []
  }
 ],
 "metadata": {
  "kernelspec": {
   "display_name": ".venv",
   "language": "python",
   "name": "python3"
  },
  "language_info": {
   "codemirror_mode": {
    "name": "ipython",
    "version": 3
   },
   "file_extension": ".py",
   "mimetype": "text/x-python",
   "name": "python",
   "nbconvert_exporter": "python",
   "pygments_lexer": "ipython3",
   "version": "3.11.9"
  }
 },
 "nbformat": 4,
 "nbformat_minor": 4
}
