{
 "cells": [
  {
   "cell_type": "code",
   "execution_count": 1,
   "metadata": {},
   "outputs": [],
   "source": [
    "import json\n",
    "from collections import defaultdict\n",
    "import plotly.express as px\n",
    "import plotly.io as plotly\n",
    "#plotly.renderers.default='iframe'"
   ]
  },
  {
   "cell_type": "code",
   "execution_count": 2,
   "metadata": {},
   "outputs": [],
   "source": [
    "BENIGN = \"Benign\"\n",
    "SCAM = \"Malicious\"\n",
    "class_names = [BENIGN, SCAM]"
   ]
  },
  {
   "cell_type": "code",
   "execution_count": 3,
   "metadata": {},
   "outputs": [],
   "source": [
    "def sunburst_plot(data, title=\"Sunburst Chart\"):\n",
    "    fig = px.sunburst(\n",
    "        data,\n",
    "        names='names',\n",
    "        parents='parents',\n",
    "        values='values',\n",
    "        title=title,\n",
    "        branchvalues='total' ,\n",
    "\n",
    "    )\n",
    "\n",
    "\n",
    "    fig.update_traces(maxdepth=2)\n",
    "\n",
    "    fig.show()"
   ]
  },
  {
   "cell_type": "code",
   "execution_count": 4,
   "metadata": {},
   "outputs": [],
   "source": [
    "# 'URL', 'IPInfo', 'FullWhois', 'CertSH', 'HTML', 'HTMLInfo', 'Links'\n",
    "\n",
    "def get_parent_for_item(item: str):\n",
    "    tokens = item.split(':')\n",
    "    first_token = tokens[0].strip().lower()\n",
    "\n",
    "    if first_token.startswith('url information') or first_token.startswith('submitted url')  or first_token.startswith('tls support'): return 'URLInfo'\n",
    "    elif first_token.startswith('html information') or first_token.startswith('redirects (url') \\\n",
    "        or first_token.startswith('device')   or first_token.startswith('meta')    : return 'HTMLInfo'\n",
    "    elif first_token.startswith('ipinfo') or first_token.startswith('address') \\\n",
    "        or first_token.startswith('city')  or first_token.startswith('organization') \\\n",
    "        or first_token.startswith('country')  or first_token.startswith('region') : return 'IPInfo'\n",
    "    elif first_token.startswith('links') or first_token.startswith('total links') \\\n",
    "        or first_token.startswith('image')  or first_token.startswith('iframe')  or first_token.startswith('meta contents')   : return 'Links'\n",
    "    elif first_token.startswith('html'): return 'HTML'\n",
    "    elif first_token.startswith('fullwhois') or first_token.startswith('creation')  or first_token.startswith('expiration') \\\n",
    "        or first_token.startswith('total')  or first_token.startswith('registrar') or first_token.startswith('domain status') : return 'FullWhois'\n",
    "    elif first_token.startswith('certsh')  or first_token.startswith('common')  or first_token.startswith('certificate') or first_token.startswith('validity')  or first_token.startswith('issuer') \\\n",
    "        or first_token.startswith('common domains')  : return 'CertSH'\n",
    "    else: \n",
    "        print(f'Couldn not find a parent category for: {first_token}')\n",
    "        return ''\n",
    "\n"
   ]
  },
  {
   "cell_type": "code",
   "execution_count": 5,
   "metadata": {},
   "outputs": [],
   "source": [
    "def sunburst_expl(json_file, label, sample_idx=None): \n",
    "    aggregated_scores_benign = defaultdict(float)\n",
    "    aggregated_scores_scam = defaultdict(float)\n",
    "    parents = list()\n",
    "    tokens_to_parents_benign = dict()\n",
    "    tokens_to_parents_scam = dict()\n",
    "    scores = list()\n",
    "    elements = list()\n",
    "    tokens_to_parents_scam[SCAM] = ''\n",
    "    tokens_to_parents_benign[BENIGN] = ''\n",
    "\n",
    "    def process_item(item, label):\n",
    "        importance = item['importance']\n",
    "        tokens = item['token'].split(':')\n",
    "        token = tokens[0].strip()\n",
    "        if token.startswith('fullwhois') or  token.startswith('ipinfo') \\\n",
    "            or  token.startswith('htmlinfo')   or  token.startswith('html information')\\\n",
    "            or  token.startswith('certsh') or  token.startswith('url') :\n",
    "                token = tokens[1].strip()\n",
    "            \n",
    "\n",
    "        parent = get_parent_for_item(token)\n",
    "        if len(parent) > 1:\n",
    "            if (importance >=0):\n",
    "                tokens_to_parents_scam[token] = parent\n",
    "                aggregated_scores_scam[parent] += importance\n",
    "                aggregated_scores_scam[token] += importance\n",
    "                tokens_to_parents_scam[parent]=SCAM\n",
    "                aggregated_scores_scam[SCAM] += importance\n",
    "                \n",
    "            else:\n",
    "                tokens_to_parents_benign[token] = parent\n",
    "                aggregated_scores_benign[parent] += abs(importance)\n",
    "                aggregated_scores_benign[token] += abs(importance)\n",
    "                tokens_to_parents_benign[parent]=BENIGN\n",
    "                aggregated_scores_benign[BENIGN] += abs(importance)\n",
    "            \n",
    "\n",
    "    with open(json_file, 'r') as file:\n",
    "        lime_data = json.load(file)\n",
    "        if sample_idx != None:\n",
    "            input = lime_data['lime_results'][sample_idx]\n",
    "            classification = input[\"classification\"]\n",
    "            if classification == BENIGN:\n",
    "                classification = 0\n",
    "            elif classification == SCAM:\n",
    "                classification = 1\n",
    "            else: classification = int(classification)\n",
    "            for item in input['explanation']:\n",
    "                process_item(item, classification)\n",
    "        else:\n",
    "            for input in lime_data['lime_results']:\n",
    "                # print(input['classification'])\n",
    "                if label == None or label == int(input['classification']):\n",
    "                    for item in input['explanation']:\n",
    "                        process_item(item, label)\n",
    "                    \n",
    "    for key in aggregated_scores_scam.keys():\n",
    "        parents.append('' if key == SCAM else tokens_to_parents_scam[key] + ' ')\n",
    "        scores.append(aggregated_scores_scam[key] / aggregated_scores_scam[SCAM] * float(lime_data['lime_results'][sample_idx][SCAM])) #normalize to actual prediction confidence\n",
    "        elements.append(key + ' ')\n",
    "\n",
    "    for key in aggregated_scores_benign.keys():\n",
    "        parents.append(tokens_to_parents_benign[key])\n",
    "        scores.append(aggregated_scores_benign[key] / aggregated_scores_benign[BENIGN] * float(lime_data['lime_results'][sample_idx][BENIGN]))  #normalize to actual prediction confidence\n",
    "        elements.append(key)\n",
    "\n",
    "    data = dict(\n",
    "        names=elements,\n",
    "        parents=parents,\n",
    "        values=scores\n",
    "    )\n",
    "    return data\n"
   ]
  },
  {
   "cell_type": "code",
   "execution_count": 6,
   "metadata": {},
   "outputs": [
    {
     "name": "stdout",
     "output_type": "stream",
     "text": [
      "Couldn not find a parent category for: nan\n"
     ]
    },
    {
     "data": {
      "application/vnd.plotly.v1+json": {
       "config": {
        "plotlyServerURL": "https://plot.ly"
       },
       "data": [
        {
         "branchvalues": "total",
         "domain": {
          "x": [
           0,
           1
          ],
          "y": [
           0,
           1
          ]
         },
         "hovertemplate": "label=%{label}<br>value=%{value}<br>parent=%{parent}<extra></extra>",
         "labels": [
          "IPInfo ",
          "organization ",
          "Malicious ",
          "HTMLInfo ",
          "device ",
          "meta contents ",
          "HTML ",
          "html ",
          "Links ",
          "links (total ",
          "CertSH ",
          "validity summary ",
          "URLInfo ",
          "submitted url ",
          "image srcs (total ",
          "common domains (domain ",
          "iframe srcs ",
          "country ",
          "issuer names (issuer ",
          "redirects (url ",
          "html mytoken ",
          "URLInfo",
          "tls support",
          "Benign",
          "IPInfo",
          "address",
          "region",
          "city"
         ],
         "maxdepth": 2,
         "name": "",
         "parents": [
          "Malicious ",
          "IPInfo ",
          "",
          "Malicious ",
          "HTMLInfo ",
          "HTMLInfo ",
          "Malicious ",
          "HTML ",
          "Malicious ",
          "Links ",
          "Malicious ",
          "CertSH ",
          "Malicious ",
          "URLInfo ",
          "Links ",
          "CertSH ",
          "Links ",
          "IPInfo ",
          "CertSH ",
          "HTMLInfo ",
          "HTML ",
          "Benign",
          "URLInfo",
          "",
          "Benign",
          "IPInfo",
          "IPInfo",
          "IPInfo"
         ],
         "type": "sunburst",
         "values": [
          0.04679215115696071,
          0.03868101233575445,
          0.6,
          0.0646750038446119,
          0.033077942712252374,
          0.030531143957113503,
          0.3793646797611303,
          0.02630554954048282,
          0.04819883565832123,
          0.02437257792806029,
          0.041775333108788996,
          0.02303340037161677,
          0.01919399647018684,
          0.01919399647018684,
          0.013536105947609183,
          0.01096995381449238,
          0.010290151782651757,
          0.008111138821206258,
          0.007771978922679847,
          0.0010659171752460182,
          0.35305913022064744,
          0.14591591179186134,
          0.14591591179186134,
          0.4,
          0.2540840882081387,
          0.12197004071323742,
          0.12197004071323742,
          0.010144006781663835
         ]
        }
       ],
       "layout": {
        "legend": {
         "tracegroupgap": 0
        },
        "margin": {
         "t": 60
        },
        "template": {
         "data": {
          "bar": [
           {
            "error_x": {
             "color": "#2a3f5f"
            },
            "error_y": {
             "color": "#2a3f5f"
            },
            "marker": {
             "line": {
              "color": "#E5ECF6",
              "width": 0.5
             },
             "pattern": {
              "fillmode": "overlay",
              "size": 10,
              "solidity": 0.2
             }
            },
            "type": "bar"
           }
          ],
          "barpolar": [
           {
            "marker": {
             "line": {
              "color": "#E5ECF6",
              "width": 0.5
             },
             "pattern": {
              "fillmode": "overlay",
              "size": 10,
              "solidity": 0.2
             }
            },
            "type": "barpolar"
           }
          ],
          "carpet": [
           {
            "aaxis": {
             "endlinecolor": "#2a3f5f",
             "gridcolor": "white",
             "linecolor": "white",
             "minorgridcolor": "white",
             "startlinecolor": "#2a3f5f"
            },
            "baxis": {
             "endlinecolor": "#2a3f5f",
             "gridcolor": "white",
             "linecolor": "white",
             "minorgridcolor": "white",
             "startlinecolor": "#2a3f5f"
            },
            "type": "carpet"
           }
          ],
          "choropleth": [
           {
            "colorbar": {
             "outlinewidth": 0,
             "ticks": ""
            },
            "type": "choropleth"
           }
          ],
          "contour": [
           {
            "colorbar": {
             "outlinewidth": 0,
             "ticks": ""
            },
            "colorscale": [
             [
              0,
              "#0d0887"
             ],
             [
              0.1111111111111111,
              "#46039f"
             ],
             [
              0.2222222222222222,
              "#7201a8"
             ],
             [
              0.3333333333333333,
              "#9c179e"
             ],
             [
              0.4444444444444444,
              "#bd3786"
             ],
             [
              0.5555555555555556,
              "#d8576b"
             ],
             [
              0.6666666666666666,
              "#ed7953"
             ],
             [
              0.7777777777777778,
              "#fb9f3a"
             ],
             [
              0.8888888888888888,
              "#fdca26"
             ],
             [
              1,
              "#f0f921"
             ]
            ],
            "type": "contour"
           }
          ],
          "contourcarpet": [
           {
            "colorbar": {
             "outlinewidth": 0,
             "ticks": ""
            },
            "type": "contourcarpet"
           }
          ],
          "heatmap": [
           {
            "colorbar": {
             "outlinewidth": 0,
             "ticks": ""
            },
            "colorscale": [
             [
              0,
              "#0d0887"
             ],
             [
              0.1111111111111111,
              "#46039f"
             ],
             [
              0.2222222222222222,
              "#7201a8"
             ],
             [
              0.3333333333333333,
              "#9c179e"
             ],
             [
              0.4444444444444444,
              "#bd3786"
             ],
             [
              0.5555555555555556,
              "#d8576b"
             ],
             [
              0.6666666666666666,
              "#ed7953"
             ],
             [
              0.7777777777777778,
              "#fb9f3a"
             ],
             [
              0.8888888888888888,
              "#fdca26"
             ],
             [
              1,
              "#f0f921"
             ]
            ],
            "type": "heatmap"
           }
          ],
          "heatmapgl": [
           {
            "colorbar": {
             "outlinewidth": 0,
             "ticks": ""
            },
            "colorscale": [
             [
              0,
              "#0d0887"
             ],
             [
              0.1111111111111111,
              "#46039f"
             ],
             [
              0.2222222222222222,
              "#7201a8"
             ],
             [
              0.3333333333333333,
              "#9c179e"
             ],
             [
              0.4444444444444444,
              "#bd3786"
             ],
             [
              0.5555555555555556,
              "#d8576b"
             ],
             [
              0.6666666666666666,
              "#ed7953"
             ],
             [
              0.7777777777777778,
              "#fb9f3a"
             ],
             [
              0.8888888888888888,
              "#fdca26"
             ],
             [
              1,
              "#f0f921"
             ]
            ],
            "type": "heatmapgl"
           }
          ],
          "histogram": [
           {
            "marker": {
             "pattern": {
              "fillmode": "overlay",
              "size": 10,
              "solidity": 0.2
             }
            },
            "type": "histogram"
           }
          ],
          "histogram2d": [
           {
            "colorbar": {
             "outlinewidth": 0,
             "ticks": ""
            },
            "colorscale": [
             [
              0,
              "#0d0887"
             ],
             [
              0.1111111111111111,
              "#46039f"
             ],
             [
              0.2222222222222222,
              "#7201a8"
             ],
             [
              0.3333333333333333,
              "#9c179e"
             ],
             [
              0.4444444444444444,
              "#bd3786"
             ],
             [
              0.5555555555555556,
              "#d8576b"
             ],
             [
              0.6666666666666666,
              "#ed7953"
             ],
             [
              0.7777777777777778,
              "#fb9f3a"
             ],
             [
              0.8888888888888888,
              "#fdca26"
             ],
             [
              1,
              "#f0f921"
             ]
            ],
            "type": "histogram2d"
           }
          ],
          "histogram2dcontour": [
           {
            "colorbar": {
             "outlinewidth": 0,
             "ticks": ""
            },
            "colorscale": [
             [
              0,
              "#0d0887"
             ],
             [
              0.1111111111111111,
              "#46039f"
             ],
             [
              0.2222222222222222,
              "#7201a8"
             ],
             [
              0.3333333333333333,
              "#9c179e"
             ],
             [
              0.4444444444444444,
              "#bd3786"
             ],
             [
              0.5555555555555556,
              "#d8576b"
             ],
             [
              0.6666666666666666,
              "#ed7953"
             ],
             [
              0.7777777777777778,
              "#fb9f3a"
             ],
             [
              0.8888888888888888,
              "#fdca26"
             ],
             [
              1,
              "#f0f921"
             ]
            ],
            "type": "histogram2dcontour"
           }
          ],
          "mesh3d": [
           {
            "colorbar": {
             "outlinewidth": 0,
             "ticks": ""
            },
            "type": "mesh3d"
           }
          ],
          "parcoords": [
           {
            "line": {
             "colorbar": {
              "outlinewidth": 0,
              "ticks": ""
             }
            },
            "type": "parcoords"
           }
          ],
          "pie": [
           {
            "automargin": true,
            "type": "pie"
           }
          ],
          "scatter": [
           {
            "fillpattern": {
             "fillmode": "overlay",
             "size": 10,
             "solidity": 0.2
            },
            "type": "scatter"
           }
          ],
          "scatter3d": [
           {
            "line": {
             "colorbar": {
              "outlinewidth": 0,
              "ticks": ""
             }
            },
            "marker": {
             "colorbar": {
              "outlinewidth": 0,
              "ticks": ""
             }
            },
            "type": "scatter3d"
           }
          ],
          "scattercarpet": [
           {
            "marker": {
             "colorbar": {
              "outlinewidth": 0,
              "ticks": ""
             }
            },
            "type": "scattercarpet"
           }
          ],
          "scattergeo": [
           {
            "marker": {
             "colorbar": {
              "outlinewidth": 0,
              "ticks": ""
             }
            },
            "type": "scattergeo"
           }
          ],
          "scattergl": [
           {
            "marker": {
             "colorbar": {
              "outlinewidth": 0,
              "ticks": ""
             }
            },
            "type": "scattergl"
           }
          ],
          "scattermapbox": [
           {
            "marker": {
             "colorbar": {
              "outlinewidth": 0,
              "ticks": ""
             }
            },
            "type": "scattermapbox"
           }
          ],
          "scatterpolar": [
           {
            "marker": {
             "colorbar": {
              "outlinewidth": 0,
              "ticks": ""
             }
            },
            "type": "scatterpolar"
           }
          ],
          "scatterpolargl": [
           {
            "marker": {
             "colorbar": {
              "outlinewidth": 0,
              "ticks": ""
             }
            },
            "type": "scatterpolargl"
           }
          ],
          "scatterternary": [
           {
            "marker": {
             "colorbar": {
              "outlinewidth": 0,
              "ticks": ""
             }
            },
            "type": "scatterternary"
           }
          ],
          "surface": [
           {
            "colorbar": {
             "outlinewidth": 0,
             "ticks": ""
            },
            "colorscale": [
             [
              0,
              "#0d0887"
             ],
             [
              0.1111111111111111,
              "#46039f"
             ],
             [
              0.2222222222222222,
              "#7201a8"
             ],
             [
              0.3333333333333333,
              "#9c179e"
             ],
             [
              0.4444444444444444,
              "#bd3786"
             ],
             [
              0.5555555555555556,
              "#d8576b"
             ],
             [
              0.6666666666666666,
              "#ed7953"
             ],
             [
              0.7777777777777778,
              "#fb9f3a"
             ],
             [
              0.8888888888888888,
              "#fdca26"
             ],
             [
              1,
              "#f0f921"
             ]
            ],
            "type": "surface"
           }
          ],
          "table": [
           {
            "cells": {
             "fill": {
              "color": "#EBF0F8"
             },
             "line": {
              "color": "white"
             }
            },
            "header": {
             "fill": {
              "color": "#C8D4E3"
             },
             "line": {
              "color": "white"
             }
            },
            "type": "table"
           }
          ]
         },
         "layout": {
          "annotationdefaults": {
           "arrowcolor": "#2a3f5f",
           "arrowhead": 0,
           "arrowwidth": 1
          },
          "autotypenumbers": "strict",
          "coloraxis": {
           "colorbar": {
            "outlinewidth": 0,
            "ticks": ""
           }
          },
          "colorscale": {
           "diverging": [
            [
             0,
             "#8e0152"
            ],
            [
             0.1,
             "#c51b7d"
            ],
            [
             0.2,
             "#de77ae"
            ],
            [
             0.3,
             "#f1b6da"
            ],
            [
             0.4,
             "#fde0ef"
            ],
            [
             0.5,
             "#f7f7f7"
            ],
            [
             0.6,
             "#e6f5d0"
            ],
            [
             0.7,
             "#b8e186"
            ],
            [
             0.8,
             "#7fbc41"
            ],
            [
             0.9,
             "#4d9221"
            ],
            [
             1,
             "#276419"
            ]
           ],
           "sequential": [
            [
             0,
             "#0d0887"
            ],
            [
             0.1111111111111111,
             "#46039f"
            ],
            [
             0.2222222222222222,
             "#7201a8"
            ],
            [
             0.3333333333333333,
             "#9c179e"
            ],
            [
             0.4444444444444444,
             "#bd3786"
            ],
            [
             0.5555555555555556,
             "#d8576b"
            ],
            [
             0.6666666666666666,
             "#ed7953"
            ],
            [
             0.7777777777777778,
             "#fb9f3a"
            ],
            [
             0.8888888888888888,
             "#fdca26"
            ],
            [
             1,
             "#f0f921"
            ]
           ],
           "sequentialminus": [
            [
             0,
             "#0d0887"
            ],
            [
             0.1111111111111111,
             "#46039f"
            ],
            [
             0.2222222222222222,
             "#7201a8"
            ],
            [
             0.3333333333333333,
             "#9c179e"
            ],
            [
             0.4444444444444444,
             "#bd3786"
            ],
            [
             0.5555555555555556,
             "#d8576b"
            ],
            [
             0.6666666666666666,
             "#ed7953"
            ],
            [
             0.7777777777777778,
             "#fb9f3a"
            ],
            [
             0.8888888888888888,
             "#fdca26"
            ],
            [
             1,
             "#f0f921"
            ]
           ]
          },
          "colorway": [
           "#636efa",
           "#EF553B",
           "#00cc96",
           "#ab63fa",
           "#FFA15A",
           "#19d3f3",
           "#FF6692",
           "#B6E880",
           "#FF97FF",
           "#FECB52"
          ],
          "font": {
           "color": "#2a3f5f"
          },
          "geo": {
           "bgcolor": "white",
           "lakecolor": "white",
           "landcolor": "#E5ECF6",
           "showlakes": true,
           "showland": true,
           "subunitcolor": "white"
          },
          "hoverlabel": {
           "align": "left"
          },
          "hovermode": "closest",
          "mapbox": {
           "style": "light"
          },
          "paper_bgcolor": "white",
          "plot_bgcolor": "#E5ECF6",
          "polar": {
           "angularaxis": {
            "gridcolor": "white",
            "linecolor": "white",
            "ticks": ""
           },
           "bgcolor": "#E5ECF6",
           "radialaxis": {
            "gridcolor": "white",
            "linecolor": "white",
            "ticks": ""
           }
          },
          "scene": {
           "xaxis": {
            "backgroundcolor": "#E5ECF6",
            "gridcolor": "white",
            "gridwidth": 2,
            "linecolor": "white",
            "showbackground": true,
            "ticks": "",
            "zerolinecolor": "white"
           },
           "yaxis": {
            "backgroundcolor": "#E5ECF6",
            "gridcolor": "white",
            "gridwidth": 2,
            "linecolor": "white",
            "showbackground": true,
            "ticks": "",
            "zerolinecolor": "white"
           },
           "zaxis": {
            "backgroundcolor": "#E5ECF6",
            "gridcolor": "white",
            "gridwidth": 2,
            "linecolor": "white",
            "showbackground": true,
            "ticks": "",
            "zerolinecolor": "white"
           }
          },
          "shapedefaults": {
           "line": {
            "color": "#2a3f5f"
           }
          },
          "ternary": {
           "aaxis": {
            "gridcolor": "white",
            "linecolor": "white",
            "ticks": ""
           },
           "baxis": {
            "gridcolor": "white",
            "linecolor": "white",
            "ticks": ""
           },
           "bgcolor": "#E5ECF6",
           "caxis": {
            "gridcolor": "white",
            "linecolor": "white",
            "ticks": ""
           }
          },
          "title": {
           "x": 0.05
          },
          "xaxis": {
           "automargin": true,
           "gridcolor": "white",
           "linecolor": "white",
           "ticks": "",
           "title": {
            "standoff": 15
           },
           "zerolinecolor": "white",
           "zerolinewidth": 2
          },
          "yaxis": {
           "automargin": true,
           "gridcolor": "white",
           "linecolor": "white",
           "ticks": "",
           "title": {
            "standoff": 15
           },
           "zerolinecolor": "white",
           "zerolinewidth": 2
          }
         }
        }
       }
      }
     },
     "metadata": {},
     "output_type": "display_data"
    }
   ],
   "source": [
    "plot_data = sunburst_expl('weighted_explanation.json', 1, sample_idx=0)\n",
    "\n",
    "# print(plot_data)\n",
    "\n",
    "sunburst_plot(plot_data, \"\")"
   ]
  },
  {
   "cell_type": "code",
   "execution_count": null,
   "metadata": {},
   "outputs": [],
   "source": []
  },
  {
   "cell_type": "code",
   "execution_count": null,
   "metadata": {},
   "outputs": [],
   "source": []
  }
 ],
 "metadata": {
  "kernelspec": {
   "display_name": ".venv",
   "language": "python",
   "name": "python3"
  },
  "language_info": {
   "codemirror_mode": {
    "name": "ipython",
    "version": 3
   },
   "file_extension": ".py",
   "mimetype": "text/x-python",
   "name": "python",
   "nbconvert_exporter": "python",
   "pygments_lexer": "ipython3",
   "version": "3.11.9"
  }
 },
 "nbformat": 4,
 "nbformat_minor": 4
}
